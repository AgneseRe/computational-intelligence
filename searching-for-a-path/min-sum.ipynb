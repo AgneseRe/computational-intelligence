{
 "cells": [
  {
   "cell_type": "markdown",
   "metadata": {},
   "source": [
    "Copyright (c)"
   ]
  },
  {
   "cell_type": "code",
   "execution_count": 47,
   "metadata": {},
   "outputs": [],
   "source": [
    "from random import randint"
   ]
  },
  {
   "cell_type": "code",
   "execution_count": 61,
   "metadata": {},
   "outputs": [],
   "source": [
    "PROBLEM_SIZE = 10\n",
    "GOAL_SUM = 15\n",
    "NUMBERS = [randint(0, 10) for _ in range(PROBLEM_SIZE)]"
   ]
  },
  {
   "cell_type": "code",
   "execution_count": 62,
   "metadata": {},
   "outputs": [],
   "source": [
    "frontier = [[False] * PROBLEM_SIZE]\n",
    "state = frontier.pop()\n",
    "\n",
    "while sum(NUMBERS[n] for n in range(PROBLEM_SIZE) if state[n]) != GOAL_SUM:\n",
    "    valid_actions = [n for n in range(PROBLEM_SIZE) if not state[n]]\n",
    "    for a in valid_actions:\n",
    "        new_state = state[:]\n",
    "        new_state[a] = True\n",
    "        frontier.append(new_state)\n",
    "    state = frontier.pop()"
   ]
  },
  {
   "cell_type": "code",
   "execution_count": 64,
   "metadata": {},
   "outputs": [
    {
     "data": {
      "text/plain": [
       "[6, 0, 9]"
      ]
     },
     "execution_count": 64,
     "metadata": {},
     "output_type": "execute_result"
    }
   ],
   "source": [
    "selected_numbers = [NUMBERS[n] for n in range(PROBLEM_SIZE) if state[n]]\n",
    "selected_numbers\n"
   ]
  }
 ],
 "metadata": {
  "kernelspec": {
   "display_name": "Python 3",
   "language": "python",
   "name": "python3"
  },
  "language_info": {
   "codemirror_mode": {
    "name": "ipython",
    "version": 3
   },
   "file_extension": ".py",
   "mimetype": "text/x-python",
   "name": "python",
   "nbconvert_exporter": "python",
   "pygments_lexer": "ipython3",
   "version": "3.9.13"
  }
 },
 "nbformat": 4,
 "nbformat_minor": 2
}
